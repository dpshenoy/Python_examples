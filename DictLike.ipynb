{
 "cells": [
  {
   "cell_type": "markdown",
   "metadata": {
    "collapsed": true
   },
   "source": [
    "### This class provides a dictionary-like object that will contain only *k* key-value pairs at any given time.   It has an  attribute that is a regular dict, and another attribute *k* which sets the maximum number of key-value pairs it is allowed to contain at any given time."
   ]
  },
  {
   "cell_type": "code",
   "execution_count": 5,
   "metadata": {
    "collapsed": true
   },
   "outputs": [],
   "source": [
    "class FixedNumKeys:\n",
    "    '''A dict-like object that contains up to k key-value pairs where k is an integer.\n",
    "\n",
    "    Attributes:\n",
    "        k:  an integer specifying the max number of key-value pairs an instance may have\n",
    "    '''\n",
    "\n",
    "    def __init__(self, k):\n",
    "        '''Initializer checks if supplied k is an integer > 0; if yes, returs\n",
    "            a FixedNumKeys object permitted to hold up to k key-value pairs.'''\n",
    "        if not isinstance(k, int):\n",
    "            raise ValueError('Supplied value of k is not an integer')\n",
    "        elif k < 0:\n",
    "            raise ValueError('Supplied value of k is less than zero')\n",
    "        else:\n",
    "            self._k = k\n",
    "            self.keyValPairs = {}     # empty dict\n",
    "\n",
    "    def k(self):\n",
    "        '''Method for retrieving max number of keys this dict-like object may have'''\n",
    "        return self._k\n",
    "\n",
    "    def addKeyVaPair(self, key, value):\n",
    "        '''Method for adding key-value pairs, unless already contains k pairs'''\n",
    "        if len( self.keyValPairs.keys() ) >= self._k:\n",
    "            raise AttributeError('Max number k = {} key-value pairs already reached'.format(self._k))\n",
    "        else:\n",
    "            self.keyValPairs[key] = value\n"
   ]
  },
  {
   "cell_type": "code",
   "execution_count": 6,
   "metadata": {
    "collapsed": false
   },
   "outputs": [],
   "source": [
    "# Import the class\n",
    "from dictLike import FixedNumKeys\n",
    "\n",
    "# Declare an instance of the class, fixing k = 3 as the max number of key-value pairs permitted\n",
    "d = FixedNumKeys(3)\n",
    "\n",
    "# Add k key-value pairs\n",
    "d.addKeyValPair('name', 'Dinesh Shenoy' ) \n",
    "d.addKeyValPair('eyes', 'brown' ) \n",
    "d.addKeyValPair('hair', 'black' )"
   ]
  },
  {
   "cell_type": "code",
   "execution_count": 7,
   "metadata": {
    "collapsed": false
   },
   "outputs": [
    {
     "data": {
      "text/plain": [
       "{'eyes': 'brown', 'hair': 'black', 'name': 'Dinesh Shenoy'}"
      ]
     },
     "execution_count": 7,
     "metadata": {},
     "output_type": "execute_result"
    }
   ],
   "source": [
    "# display the key-value pairs that dict-like object d contains\n",
    "d.keyValPairs"
   ]
  },
  {
   "cell_type": "code",
   "execution_count": 8,
   "metadata": {
    "collapsed": false
   },
   "outputs": [
    {
     "ename": "AttributeError",
     "evalue": "Max number k = 3 key-value pairs already reached",
     "output_type": "error",
     "traceback": [
      "\u001b[0;31m---------------------------------------------------------------------------\u001b[0m",
      "\u001b[0;31mAttributeError\u001b[0m                            Traceback (most recent call last)",
      "\u001b[0;32m<ipython-input-8-3683fb637fce>\u001b[0m in \u001b[0;36m<module>\u001b[0;34m()\u001b[0m\n\u001b[1;32m      1\u001b[0m \u001b[0;31m# Try and add another key-value pair in excess of k = 3, it won't work...\u001b[0m\u001b[0;34m\u001b[0m\u001b[0;34m\u001b[0m\u001b[0m\n\u001b[0;32m----> 2\u001b[0;31m \u001b[0md\u001b[0m\u001b[0;34m.\u001b[0m\u001b[0maddKeyValPair\u001b[0m\u001b[0;34m(\u001b[0m\u001b[0;34m'bike'\u001b[0m\u001b[0;34m,\u001b[0m\u001b[0;34m'Bianci'\u001b[0m\u001b[0;34m)\u001b[0m\u001b[0;34m\u001b[0m\u001b[0m\n\u001b[0m",
      "\u001b[0;32m/Users/dshenoy/Software/Python/GenQuestions/dictLike.py\u001b[0m in \u001b[0;36maddKeyValPair\u001b[0;34m(self, key, value)\u001b[0m\n\u001b[1;32m     26\u001b[0m         \u001b[0;34m'''Method for adding key-value pairs, unless already contains k pairs'''\u001b[0m\u001b[0;34m\u001b[0m\u001b[0m\n\u001b[1;32m     27\u001b[0m         \u001b[0;32mif\u001b[0m \u001b[0mlen\u001b[0m\u001b[0;34m(\u001b[0m \u001b[0mself\u001b[0m\u001b[0;34m.\u001b[0m\u001b[0mkeyValPairs\u001b[0m\u001b[0;34m.\u001b[0m\u001b[0mkeys\u001b[0m\u001b[0;34m(\u001b[0m\u001b[0;34m)\u001b[0m \u001b[0;34m)\u001b[0m \u001b[0;34m>=\u001b[0m \u001b[0mself\u001b[0m\u001b[0;34m.\u001b[0m\u001b[0m_k\u001b[0m\u001b[0;34m:\u001b[0m\u001b[0;34m\u001b[0m\u001b[0m\n\u001b[0;32m---> 28\u001b[0;31m             \u001b[0;32mraise\u001b[0m \u001b[0mAttributeError\u001b[0m\u001b[0;34m(\u001b[0m\u001b[0;34m'Max number k = {} key-value pairs already reached'\u001b[0m\u001b[0;34m.\u001b[0m\u001b[0mformat\u001b[0m\u001b[0;34m(\u001b[0m\u001b[0mself\u001b[0m\u001b[0;34m.\u001b[0m\u001b[0m_k\u001b[0m\u001b[0;34m)\u001b[0m\u001b[0;34m)\u001b[0m\u001b[0;34m\u001b[0m\u001b[0m\n\u001b[0m\u001b[1;32m     29\u001b[0m         \u001b[0;32melse\u001b[0m\u001b[0;34m:\u001b[0m\u001b[0;34m\u001b[0m\u001b[0m\n\u001b[1;32m     30\u001b[0m             \u001b[0mself\u001b[0m\u001b[0;34m.\u001b[0m\u001b[0mkeyValPairs\u001b[0m\u001b[0;34m[\u001b[0m\u001b[0mkey\u001b[0m\u001b[0;34m]\u001b[0m \u001b[0;34m=\u001b[0m \u001b[0mvalue\u001b[0m\u001b[0;34m\u001b[0m\u001b[0m\n",
      "\u001b[0;31mAttributeError\u001b[0m: Max number k = 3 key-value pairs already reached"
     ]
    }
   ],
   "source": [
    "# Try and add another key-value pair in excess of k = 3, it won't work...\n",
    "d.addKeyValPair('bike','Bianci')"
   ]
  },
  {
   "cell_type": "markdown",
   "metadata": {},
   "source": [
    "#### Comments:  another instance method could perhaps be added to class FixedNumKeys after its addKeyValPair( ) method to enable popping off a key-value pair to make space for a different pair.  (That would simulate a regular dict's built-in pop( ) method).\n",
    "#### Note:  Apparently amongst Python collections there is an \"OrderedDict\" object that can be used to keep track of the order in which key-value pairs are added, so that adding a (k+1)th pair could automatically pop off the oldest pair, see:  http://stackoverflow.com/questions/2437617/limiting-the-size-of-a-python-dictionary  But that might not actually be a great idea, if the goal is to force this dict-like object to stop accepting new key-value pairs without losing any of the ones already added."
   ]
  }
 ],
 "metadata": {
  "kernelspec": {
   "display_name": "Python 3",
   "language": "python",
   "name": "python3"
  },
  "language_info": {
   "codemirror_mode": {
    "name": "ipython",
    "version": 3
   },
   "file_extension": ".py",
   "mimetype": "text/x-python",
   "name": "python",
   "nbconvert_exporter": "python",
   "pygments_lexer": "ipython3",
   "version": "3.5.2"
  }
 },
 "nbformat": 4,
 "nbformat_minor": 0
}
