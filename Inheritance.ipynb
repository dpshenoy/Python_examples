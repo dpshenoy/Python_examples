{
 "cells": [
  {
   "cell_type": "markdown",
   "metadata": {},
   "source": [
    "### A simple example of class inheritance-- use a base class to contain common methods shared by derived classes, rather than repeating methods over and over in each new derived class"
   ]
  },
  {
   "cell_type": "code",
   "execution_count": 1,
   "metadata": {
    "collapsed": true
   },
   "outputs": [],
   "source": [
    "# Example in module vehicle.py\n",
    "\n",
    "class Vehicle:\n",
    "    '''A base class from which to inherit methods common to all Vehicles'''\n",
    "\n",
    "    def maxPassengers(self):\n",
    "        rows, seats_per_row = self.seat_layout()\n",
    "        return len(rows) * len(seats_per_row)\n",
    "\n",
    "\n",
    "class Minivan(Vehicle):\n",
    "    '''Inherits from base class Vehicle'''\n",
    "\n",
    "    def __init__(self, modelYear):\n",
    "        self._modelYear = modelYear\n",
    "\n",
    "    def model(self):\n",
    "        return \"Sierra\"\n",
    "\n",
    "    def seat_layout(self):\n",
    "        return 2, 3\n",
    "\n",
    "\n",
    "class PassengerBus(Vehicle):\n",
    "    '''Inherits from base class Vehicle'''\n",
    "\n",
    "    def __init__(self, modelYear):\n",
    "        self._modelYear = modelYear\n",
    "\n",
    "    def model(self):\n",
    "        return \"E-5000\"\n",
    "\n",
    "    def seat_layout(self):\n",
    "        return 8, 6\n"
   ]
  },
  {
   "cell_type": "code",
   "execution_count": 2,
   "metadata": {
    "collapsed": false
   },
   "outputs": [
    {
     "data": {
      "text/plain": [
       "6"
      ]
     },
     "execution_count": 2,
     "metadata": {},
     "output_type": "execute_result"
    }
   ],
   "source": [
    "# Both Minivan class and PassengerBus class inherit maxPassengers() method \n",
    "# from Vehicle base class\n",
    "from vehicle import *\n",
    "moms_car = Minivan(2003)\n",
    "moms_car.maxPassengers()"
   ]
  },
  {
   "cell_type": "code",
   "execution_count": 3,
   "metadata": {
    "collapsed": false
   },
   "outputs": [
    {
     "data": {
      "text/plain": [
       "48"
      ]
     },
     "execution_count": 3,
     "metadata": {},
     "output_type": "execute_result"
    }
   ],
   "source": [
    "school_bus = PassengerBus(2014)\n",
    "school_bus.maxPassengers()"
   ]
  }
 ],
 "metadata": {
  "kernelspec": {
   "display_name": "Python 3",
   "language": "python",
   "name": "python3"
  },
  "language_info": {
   "codemirror_mode": {
    "name": "ipython",
    "version": 3
   },
   "file_extension": ".py",
   "mimetype": "text/x-python",
   "name": "python",
   "nbconvert_exporter": "python",
   "pygments_lexer": "ipython3",
   "version": "3.5.2"
  }
 },
 "nbformat": 4,
 "nbformat_minor": 0
}
