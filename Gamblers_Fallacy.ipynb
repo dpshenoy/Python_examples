{
 "cells": [
  {
   "cell_type": "markdown",
   "metadata": {},
   "source": [
    "# An Illustration of the Gambler's Fallacy\n",
    "### Flip a fair coin a large number of times.  Early on there may seem to be an excess of Heads or an excess of Tails.  For example, maybe you observe:  \n",
    "$$H, T, T, H, H, H, T, H, H, H, H, H, H, T, H, T, H, T, T, T, H, H, H, H, H, . . .   $$\n",
    "### It looks like an excess of Heads here in the first dozen or two flips.  If the game is to correctly guess H or T, one might be tempted to start betting steadily on T because T \"should\" be more likely to come up next. \n",
    "### That is the gambler's fallacy-- the belief that we should expect a similar excess of Tails to balance out this apparent early excess of Heads.  Clearly H is in the lead right now, so at some point it should flip and T should take the lead, right?  And so for large number of flips, H and T should each be in the lead about 50% of the time, no?  But that is not so   . . . "
   ]
  },
  {
   "cell_type": "code",
   "execution_count": 76,
   "metadata": {
    "collapsed": true
   },
   "outputs": [],
   "source": [
    "import sys ; import os; import random ; from datetime import datetime\n",
    "import numpy as np ; np.random.seed(datetime.now().microsecond)"
   ]
  },
  {
   "cell_type": "code",
   "execution_count": 77,
   "metadata": {
    "collapsed": false
   },
   "outputs": [
    {
     "name": "stdout",
     "output_type": "stream",
     "text": [
      "The first several flips are:  [0, 0, 0, 0, 1, 1, 1, 0, 1, 0, 1]\n"
     ]
    }
   ],
   "source": [
    "# specify a large number of times to flip the coin\n",
    "T = 1e6\n",
    "\n",
    "# flip the coin T times\n",
    "flips = np.random.randint(0,2,size=T).tolist()\n",
    "\n",
    "# show the first several flips; declare \"0\" to be heads, \"1\" to be tails\n",
    "print(\"The first several flips are: \", flips[:11])"
   ]
  },
  {
   "cell_type": "code",
   "execution_count": 78,
   "metadata": {
    "collapsed": false
   },
   "outputs": [
    {
     "name": "stdout",
     "output_type": "stream",
     "text": [
      "Percentage heads = 50.025%\n",
      "Percentage tails = 49.975%\n"
     ]
    }
   ],
   "source": [
    "# for large T the number of heads vs. number of tails should be nearly 50-50\n",
    "perc_heads = 100.*(1.-sum(flips)/T) \n",
    "print(\"Percentage heads = %.3f%%\" %          perc_heads   )\n",
    "print(\"Percentage tails = %.3f%%\" % ( 100. - perc_heads ) )"
   ]
  },
  {
   "cell_type": "code",
   "execution_count": 79,
   "metadata": {
    "collapsed": true
   },
   "outputs": [],
   "source": [
    "# No surprise so far, that is just as it should be . . . "
   ]
  },
  {
   "cell_type": "code",
   "execution_count": 80,
   "metadata": {
    "collapsed": false
   },
   "outputs": [
    {
     "name": "stdout",
     "output_type": "stream",
     "text": [
      "Heads was in the lead for 92.4% of the time\n",
      "Tails was in the lead for 7.6% of the time\n"
     ]
    }
   ],
   "source": [
    "# Now it gets more interesting.  Determine at each time t = 0, 1, 2, ... , T \n",
    "# whether heads or tails was IN THE LEAD.  After going through all the flips,\n",
    "# determine how much out of the total time was heads or tails in the lead.\n",
    "n_heads = 0\n",
    "n_tails = 0\n",
    "\n",
    "# lists for keeping track of the race\n",
    "heads_count = list()\n",
    "tails_count = list()\n",
    "leader = list()\n",
    "\n",
    "for flip in flips:\n",
    "    \n",
    "    if flip == 0:\n",
    "        n_heads += 1   # count a zero as heads\n",
    "    else:\n",
    "        n_tails += 1\n",
    "    \n",
    "    # keep track of number of heads and tails after each flip\n",
    "    heads_count.append(n_heads)\n",
    "    tails_count.append(n_tails)\n",
    "        \n",
    "    # handle 0th flip to start leader list\n",
    "    if n_heads > n_tails:\n",
    "        leader.append(0)\n",
    "    elif n_tails > n_heads:\n",
    "        leader.append(1)\n",
    "    else:\n",
    "        leader.append(leader[-1])\n",
    "\n",
    "# interim results (comment out for large T!)\n",
    "# print(\"flips       = \", flips)\n",
    "# print(\"heads_count = \", heads_count, end='\\n\\n')\n",
    "# print(\"flips       = \", flips)\n",
    "# print(\"tails_count = \", tails_count, end='\\n\\n')\n",
    "# print(\"leader      = \", leader,end='\\n\\n')\n",
    "\n",
    "# compute the percentage of time tails spent as the leader\n",
    "tails_in_the_lead = 100. * sum(leader) / T\n",
    "\n",
    "print(\"Heads was in the lead for %.1f%% of the time\" % (100.-tails_in_the_lead))\n",
    "print(\"Tails was in the lead for %.1f%% of the time\" %       tails_in_the_lead )"
   ]
  },
  {
   "cell_type": "markdown",
   "metadata": {},
   "source": [
    "### Re-run several times-- usually, one will be in the lead the vast majority of the time.  Almost never will you find that Heads and Tails each spend about 50% of the time in the lead."
   ]
  },
  {
   "cell_type": "code",
   "execution_count": null,
   "metadata": {
    "collapsed": true
   },
   "outputs": [],
   "source": []
  }
 ],
 "metadata": {
  "kernelspec": {
   "display_name": "Python 3",
   "language": "python",
   "name": "python3"
  },
  "language_info": {
   "codemirror_mode": {
    "name": "ipython",
    "version": 3
   },
   "file_extension": ".py",
   "mimetype": "text/x-python",
   "name": "python",
   "nbconvert_exporter": "python",
   "pygments_lexer": "ipython3",
   "version": "3.5.2"
  }
 },
 "nbformat": 4,
 "nbformat_minor": 0
}
